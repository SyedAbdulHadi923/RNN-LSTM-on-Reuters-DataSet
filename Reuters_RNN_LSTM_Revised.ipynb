{
  "nbformat": 4,
  "nbformat_minor": 0,
  "metadata": {
    "colab": {
      "name": "Reuters_RNN_LSTM-Revised.ipynb",
      "provenance": []
    },
    "kernelspec": {
      "name": "python3",
      "display_name": "Python 3"
    },
    "language_info": {
      "name": "python"
    }
  },
  "cells": [
    {
      "cell_type": "code",
      "metadata": {
        "id": "hmLiRfmvT4px"
      },
      "source": [
        "import keras\n",
        "keras.__version__\n",
        "from keras.datasets import imdb\n",
        "from keras.datasets import reuters\n",
        "from keras.preprocessing import sequence\n",
        "from tensorflow.keras.utils import to_categorical\n"
      ],
      "execution_count": 1,
      "outputs": []
    },
    {
      "cell_type": "code",
      "metadata": {
        "colab": {
          "base_uri": "https://localhost:8080/"
        },
        "id": "lzc2FaqrT99m",
        "outputId": "2363a6e6-6d85-43b6-db85-57524f2b4188"
      },
      "source": [
        "#prepping the data\n",
        "\n",
        "max_features = 10000  # number of words to consider as features\n",
        "maxlen = 500  # cut texts after this number of words (among top max_features most common words)\n",
        "batch_size = 32\n",
        "\n",
        "print('Loading data...')\n",
        "(input_train, y_train), (input_test, y_test) =reuters.load_data(num_words=max_features)\n",
        "print(len(input_train), 'train sequences')\n",
        "print(len(input_test), 'test sequences')\n",
        "\n",
        "print('Pad sequences (samples x time)')\n",
        "input_train = sequence.pad_sequences(input_train, maxlen=maxlen)\n",
        "input_test = sequence.pad_sequences(input_test, maxlen=maxlen)\n",
        "print('input_train shape:', input_train.shape)\n",
        "print('input_test shape:', input_test.shape)\n",
        "\n",
        "#one hot encode labes\n",
        "one_hot_train_labels = to_categorical(y_train)\n",
        "one_hot_test_labels = to_categorical(y_test)\n",
        "\n",
        "#train test\n",
        "partial_x_train = input_train\n",
        "\n",
        "partial_y_train = one_hot_train_labels\n",
        "\n",
        "#train test\n",
        "x_test = input_test\n",
        "\n",
        "y_test = one_hot_test_labels"
      ],
      "execution_count": 2,
      "outputs": [
        {
          "output_type": "stream",
          "name": "stdout",
          "text": [
            "Loading data...\n",
            "Downloading data from https://storage.googleapis.com/tensorflow/tf-keras-datasets/reuters.npz\n",
            "2113536/2110848 [==============================] - 0s 0us/step\n",
            "2121728/2110848 [==============================] - 0s 0us/step\n",
            "8982 train sequences\n",
            "2246 test sequences\n",
            "Pad sequences (samples x time)\n",
            "input_train shape: (8982, 500)\n",
            "input_test shape: (2246, 500)\n"
          ]
        }
      ]
    },
    {
      "cell_type": "code",
      "metadata": {
        "id": "HwFChHjaVSL0"
      },
      "source": [
        "from keras.layers import Dense\n",
        "from keras.layers import LSTM\n",
        "from keras.models import Sequential\n",
        "from keras.layers import Dense\n",
        "from keras.layers.embeddings import Embedding\n"
      ],
      "execution_count": 3,
      "outputs": []
    },
    {
      "cell_type": "code",
      "metadata": {
        "id": "KIKy9hpWVrAs"
      },
      "source": [
        "from tensorflow.keras.layers import SimpleRNN\n",
        "from keras import layers"
      ],
      "execution_count": 4,
      "outputs": []
    },
    {
      "cell_type": "code",
      "metadata": {
        "colab": {
          "base_uri": "https://localhost:8080/"
        },
        "id": "S7HuYL_5VHgj",
        "outputId": "90ca7dd5-1e33-499f-aeb4-39ad4e90a161"
      },
      "source": [
        "model = Sequential()\n",
        "model.add(Embedding(max_features, 100))\n",
        "model.add(SimpleRNN(128, return_sequences=True))\n",
        "model.add(SimpleRNN(256, return_sequences=True))\n",
        "model.add(SimpleRNN(256, return_sequences=True))\n",
        "model.add(LSTM(128))\n",
        "model.add(layers.Dropout(0.5))\n",
        "model.add(Dense(46, activation='softmax'))\n",
        "model.compile(optimizer='rmsprop', loss='categorical_crossentropy', metrics=['acc'])\n",
        "history = model.fit(partial_x_train, partial_y_train,\n",
        "                    epochs=30,\n",
        "                    batch_size=128,\n",
        "                    validation_split=.2)"
      ],
      "execution_count": 17,
      "outputs": [
        {
          "output_type": "stream",
          "name": "stdout",
          "text": [
            "Epoch 1/30\n",
            "57/57 [==============================] - 374s 6s/step - loss: 2.7136 - acc: 0.3045 - val_loss: 2.8419 - val_acc: 0.3445\n",
            "Epoch 2/30\n",
            "57/57 [==============================] - 372s 7s/step - loss: 2.5265 - acc: 0.3301 - val_loss: 2.4178 - val_acc: 0.3450\n",
            "Epoch 3/30\n",
            "57/57 [==============================] - 378s 7s/step - loss: 2.5722 - acc: 0.3244 - val_loss: 2.4227 - val_acc: 0.3450\n",
            "Epoch 4/30\n",
            "57/57 [==============================] - 374s 7s/step - loss: 2.5346 - acc: 0.3374 - val_loss: 2.4208 - val_acc: 0.3478\n",
            "Epoch 5/30\n",
            "57/57 [==============================] - 367s 6s/step - loss: 2.4684 - acc: 0.3477 - val_loss: 2.1805 - val_acc: 0.4418\n",
            "Epoch 6/30\n",
            "57/57 [==============================] - 369s 6s/step - loss: 2.1870 - acc: 0.4585 - val_loss: 2.2733 - val_acc: 0.4457\n",
            "Epoch 7/30\n",
            "57/57 [==============================] - 374s 7s/step - loss: 2.1588 - acc: 0.4473 - val_loss: 2.0460 - val_acc: 0.4858\n",
            "Epoch 8/30\n",
            "57/57 [==============================] - 373s 7s/step - loss: 2.0019 - acc: 0.4803 - val_loss: 2.5020 - val_acc: 0.3990\n",
            "Epoch 9/30\n",
            "57/57 [==============================] - 370s 6s/step - loss: 2.0453 - acc: 0.4706 - val_loss: 4.1587 - val_acc: 0.3478\n",
            "Epoch 10/30\n",
            "57/57 [==============================] - 374s 7s/step - loss: 2.4415 - acc: 0.3678 - val_loss: 3.5917 - val_acc: 0.3450\n",
            "Epoch 11/30\n",
            "57/57 [==============================] - 367s 6s/step - loss: 2.1347 - acc: 0.4463 - val_loss: 2.1967 - val_acc: 0.3973\n",
            "Epoch 12/30\n",
            "57/57 [==============================] - 371s 7s/step - loss: 1.8860 - acc: 0.5031 - val_loss: 1.9345 - val_acc: 0.4747\n",
            "Epoch 13/30\n",
            "57/57 [==============================] - 369s 6s/step - loss: 1.8357 - acc: 0.5209 - val_loss: 1.9515 - val_acc: 0.4641\n",
            "Epoch 14/30\n",
            "57/57 [==============================] - 370s 6s/step - loss: 1.7915 - acc: 0.5271 - val_loss: 1.7798 - val_acc: 0.5281\n",
            "Epoch 15/30\n",
            "57/57 [==============================] - 371s 7s/step - loss: 1.7419 - acc: 0.5344 - val_loss: 1.8528 - val_acc: 0.5042\n",
            "Epoch 16/30\n",
            "57/57 [==============================] - 369s 6s/step - loss: 1.8788 - acc: 0.4809 - val_loss: 1.8305 - val_acc: 0.5114\n",
            "Epoch 17/30\n",
            "57/57 [==============================] - 371s 7s/step - loss: 1.9054 - acc: 0.5058 - val_loss: 1.9203 - val_acc: 0.4825\n",
            "Epoch 18/30\n",
            "57/57 [==============================] - 373s 7s/step - loss: 1.7773 - acc: 0.5285 - val_loss: 1.8323 - val_acc: 0.4958\n",
            "Epoch 19/30\n",
            "57/57 [==============================] - 369s 6s/step - loss: 1.7097 - acc: 0.5449 - val_loss: 1.9109 - val_acc: 0.4936\n",
            "Epoch 20/30\n",
            "57/57 [==============================] - 369s 6s/step - loss: 1.7302 - acc: 0.5342 - val_loss: 1.8161 - val_acc: 0.5186\n",
            "Epoch 21/30\n",
            "57/57 [==============================] - 374s 7s/step - loss: 1.6681 - acc: 0.5587 - val_loss: 1.8219 - val_acc: 0.5314\n",
            "Epoch 22/30\n",
            "57/57 [==============================] - 373s 7s/step - loss: 1.6407 - acc: 0.5623 - val_loss: 1.7499 - val_acc: 0.5442\n",
            "Epoch 23/30\n",
            "57/57 [==============================] - 368s 6s/step - loss: 1.5996 - acc: 0.5790 - val_loss: 1.7284 - val_acc: 0.5454\n",
            "Epoch 24/30\n",
            "57/57 [==============================] - 368s 6s/step - loss: 1.5829 - acc: 0.5840 - val_loss: 1.7222 - val_acc: 0.5604\n",
            "Epoch 25/30\n",
            "57/57 [==============================] - 365s 6s/step - loss: 1.5699 - acc: 0.5875 - val_loss: 1.8292 - val_acc: 0.5153\n",
            "Epoch 26/30\n",
            "57/57 [==============================] - 365s 6s/step - loss: 1.5455 - acc: 0.5958 - val_loss: 2.0950 - val_acc: 0.4574\n",
            "Epoch 27/30\n",
            "57/57 [==============================] - 364s 6s/step - loss: 1.5165 - acc: 0.6007 - val_loss: 1.7177 - val_acc: 0.5810\n",
            "Epoch 28/30\n",
            "57/57 [==============================] - 364s 6s/step - loss: 1.5048 - acc: 0.6024 - val_loss: 1.7410 - val_acc: 0.5459\n",
            "Epoch 29/30\n",
            "57/57 [==============================] - 367s 6s/step - loss: 1.4738 - acc: 0.6120 - val_loss: 1.7055 - val_acc: 0.5804\n",
            "Epoch 30/30\n",
            "57/57 [==============================] - 367s 6s/step - loss: 1.4673 - acc: 0.6095 - val_loss: 1.7288 - val_acc: 0.5593\n"
          ]
        }
      ]
    },
    {
      "cell_type": "code",
      "metadata": {
        "colab": {
          "base_uri": "https://localhost:8080/",
          "height": 545
        },
        "id": "Y64QpBJjbTNu",
        "outputId": "c28100e4-88a0-4099-9c99-5f39e1bf1629"
      },
      "source": [
        "import matplotlib.pyplot as plt\n",
        "\n",
        "acc = history.history['acc']\n",
        "val_acc = history.history['val_acc']\n",
        "loss = history.history['loss']\n",
        "val_loss = history.history['val_loss']\n",
        "\n",
        "\n",
        "epochs = range(len(acc))\n",
        "\n",
        "plt.plot(epochs, acc, 'bo', label='Training acc')\n",
        "plt.plot(epochs, val_acc, 'b', label='Validation acc')\n",
        "plt.title('Training and validation accuracy')\n",
        "plt.legend()\n",
        "\n",
        "plt.figure()\n",
        "\n",
        "plt.plot(epochs, loss, 'bo', label='Training loss')\n",
        "plt.plot(epochs, val_loss, 'b', label='Validation loss')\n",
        "plt.title('Training and validation loss')\n",
        "plt.legend()\n",
        "\n",
        "plt.show()"
      ],
      "execution_count": 18,
      "outputs": [
        {
          "output_type": "display_data",
          "data": {
            "image/png": "[encoded data removed]",
            "text/plain": [
              "<Figure size 432x288 with 1 Axes>"
            ]
          },
          "metadata": {
            "needs_background": "light"
          }
        },
        {
          "output_type": "display_data",
          "data": {
            "image/png": "[encoded data removed]",
            "text/plain": [
              "<Figure size 432x288 with 1 Axes>"
            ]
          },
          "metadata": {
            "needs_background": "light"
          }
        }
      ]
    },
    {
      "cell_type": "code",
      "metadata": {
        "colab": {
          "base_uri": "https://localhost:8080/"
        },
        "id": "1I8y-x1MbiDv",
        "outputId": "fc163dc7-ffc5-4a2e-f006-a623138d4b04"
      },
      "source": [
        "test_loss, test_acc = model.evaluate(x_test, y_test)\n",
        "print('Accuracy:', test_acc)"
      ],
      "execution_count": 19,
      "outputs": [
        {
          "output_type": "stream",
          "name": "stdout",
          "text": [
            "71/71 [==============================] - 38s 533ms/step - loss: 1.7814 - acc: 0.5450\n",
            "Accuracy: 0.544968843460083\n"
          ]
        }
      ]
    },
    {
      "cell_type": "code",
      "metadata": {
        "id": "ZG-Kgrhnb6As"
      },
      "source": [
        "model.save_weights('Reuter-dataSet-Weights')\n",
        "model.save_weights('Reuter-dataSet-Weights.h5')\n",
        "model.save('Reuters-RNN/LSTM-Model.h5')"
      ],
      "execution_count": 20,
      "outputs": []
    },
    {
      "cell_type": "code",
      "metadata": {
        "id": "dfXGjNNdUBb_"
      },
      "source": [
        "model.save('Reuters-RNN-LSTM-Model.h5')\n"
      ],
      "execution_count": 30,
      "outputs": []
    },
    {
      "cell_type": "code",
      "metadata": {
        "colab": {
          "base_uri": "https://localhost:8080/"
        },
        "id": "vDJwTQd8CNPX",
        "outputId": "11ae0b23-64c1-46f4-80ed-1713daaee6ae"
      },
      "source": [
        "saved_model = keras.models.load_model('Reuters-RNN-LSTM-Model.h5')\n",
        "saved_model.evaluate(x_test,y_test)"
      ],
      "execution_count": 32,
      "outputs": [
        {
          "output_type": "stream",
          "name": "stdout",
          "text": [
            "71/71 [==============================] - 38s 529ms/step - loss: 1.7814 - acc: 0.5450\n"
          ]
        },
        {
          "output_type": "execute_result",
          "data": {
            "text/plain": [
              "[1.7814215421676636, 0.544968843460083]"
            ]
          },
          "metadata": {},
          "execution_count": 32
        }
      ]
    },
    {
      "cell_type": "code",
      "metadata": {
        "id": "KdKDPSDJAkxs"
      },
      "source": [
        "model.load_weights('/content/Reuter-dataSet-Weights.h5')"
      ],
      "execution_count": 42,
      "outputs": []
    },
    {
      "cell_type": "code",
      "metadata": {
        "colab": {
          "base_uri": "https://localhost:8080/"
        },
        "id": "Oum5ca0QEoNS",
        "outputId": "d6a01b83-bb0c-45c8-e17a-0d28fd2d03d6"
      },
      "source": [
        "model.evaluate(x_test, y_test)"
      ],
      "execution_count": 43,
      "outputs": [
        {
          "output_type": "stream",
          "name": "stdout",
          "text": [
            "71/71 [==============================] - 38s 535ms/step - loss: 1.7814 - acc: 0.5450\n"
          ]
        },
        {
          "output_type": "execute_result",
          "data": {
            "text/plain": [
              "[1.7814215421676636, 0.544968843460083]"
            ]
          },
          "metadata": {},
          "execution_count": 43
        }
      ]
    }
  ]
}